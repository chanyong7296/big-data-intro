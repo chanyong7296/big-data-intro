{
 "cells": [
  {
   "cell_type": "code",
   "execution_count": 68,
   "id": "f8c977a7-a01c-4ae0-b9cc-27e4d76f427d",
   "metadata": {},
   "outputs": [],
   "source": [
    "from pyspark.sql import SparkSession"
   ]
  },
  {
   "cell_type": "code",
   "execution_count": 69,
   "id": "cb4672e4-992e-42b0-b11d-95669ec21940",
   "metadata": {},
   "outputs": [],
   "source": [
    "spark = SparkSession.builder.master('local').appName('age_category(age)').getOrCreate()"
   ]
  },
  {
   "cell_type": "code",
   "execution_count": 99,
   "id": "ff4910b4-de93-47ba-b5c3-3fa3aad740b9",
   "metadata": {},
   "outputs": [],
   "source": [
    "def age_category(age):\n",
    "    if age < 35:\n",
    "        return 'young'\n",
    "    elif age >= 35 and age <= 59:\n",
    "        return 'adult'\n",
    "    elif age >= 60:\n",
    "        return 'senior'\n",
    "    "
   ]
  },
  {
   "cell_type": "code",
   "execution_count": 100,
   "id": "8e6d0141-96ab-4bad-8614-2845336a06ec",
   "metadata": {},
   "outputs": [],
   "source": [
    "data = [        ('김찬용',24),\n",
    "                ('안찬용',43),\n",
    "                ('박찬용',20),\n",
    "                ('이찬용',14),\n",
    "                ('최찬용',17),\n",
    "                ('윤찬용',52),\n",
    "                ('백찬용',33)]"
   ]
  },
  {
   "cell_type": "code",
   "execution_count": 101,
   "id": "e2c485bf-c788-4681-a240-29cbd8a34265",
   "metadata": {},
   "outputs": [],
   "source": [
    "schema = ['name', 'age_category(age)' ]"
   ]
  },
  {
   "cell_type": "code",
   "execution_count": 102,
   "id": "488041d6-136f-4b4f-9d48-04ba5cbde35f",
   "metadata": {},
   "outputs": [
    {
     "data": {
      "text/plain": [
       "<function __main__.age_category(age)>"
      ]
     },
     "execution_count": 102,
     "metadata": {},
     "output_type": "execute_result"
    }
   ],
   "source": [
    "spark.udf.register(\"age_category\", age_category)"
   ]
  },
  {
   "cell_type": "code",
   "execution_count": 103,
   "id": "321eefc9-801e-4ad0-97aa-7a66497ff22f",
   "metadata": {},
   "outputs": [],
   "source": [
    "df = spark.createDataFrame(data= data, schema=schema)"
   ]
  },
  {
   "cell_type": "code",
   "execution_count": 104,
   "id": "83fd741e-2799-47cf-aca2-7b2152f20c29",
   "metadata": {},
   "outputs": [
    {
     "name": "stdout",
     "output_type": "stream",
     "text": [
      "+------+-----------------+\n",
      "|  name|age_category(age)|\n",
      "+------+-----------------+\n",
      "|김찬용|               24|\n",
      "|안찬용|               43|\n",
      "|박찬용|               20|\n",
      "|이찬용|               14|\n",
      "|최찬용|               17|\n",
      "|윤찬용|               52|\n",
      "|백찬용|               33|\n",
      "+------+-----------------+\n",
      "\n"
     ]
    }
   ],
   "source": [
    "df.show()"
   ]
  },
  {
   "cell_type": "code",
   "execution_count": 105,
   "id": "aaf55d80-ebbf-443d-8ddb-68c7d068e5a5",
   "metadata": {},
   "outputs": [],
   "source": [
    "df = spark.createDataFrame(data, [\"name\", \"age\"])"
   ]
  },
  {
   "cell_type": "code",
   "execution_count": 106,
   "id": "affca2f1-c1d8-4aaf-ae23-b3e2391e241a",
   "metadata": {},
   "outputs": [],
   "source": [
    "df.createOrReplaceTempView('people')\n"
   ]
  },
  {
   "cell_type": "code",
   "execution_count": 107,
   "id": "f5a9be86-0a0b-41d1-bc04-8f98f49458c9",
   "metadata": {},
   "outputs": [
    {
     "name": "stdout",
     "output_type": "stream",
     "text": [
      "+------+-----------------+\n",
      "|  name|     age_category|\n",
      "+------+-----------------+\n",
      "|김찬용|age_category(age)|\n",
      "|안찬용|age_category(age)|\n",
      "|박찬용|age_category(age)|\n",
      "|이찬용|age_category(age)|\n",
      "|최찬용|age_category(age)|\n",
      "|윤찬용|age_category(age)|\n",
      "|백찬용|age_category(age)|\n",
      "+------+-----------------+\n",
      "\n"
     ]
    }
   ],
   "source": [
    "spark.sql(\"SELECT name, \\'age_category(age)'\\\n",
    "        AS age_category FROM people\").show()"
   ]
  },
  {
   "cell_type": "code",
   "execution_count": 108,
   "id": "7ae48086-f732-4682-98b4-0a46286c6b1e",
   "metadata": {},
   "outputs": [],
   "source": [
    "result = spark.sql(\"SELECT name, age_category(age) AS age_category FROM people\")\n"
   ]
  },
  {
   "cell_type": "code",
   "execution_count": 109,
   "id": "e1de6c7a-7705-41ee-ab70-2df44f01a583",
   "metadata": {},
   "outputs": [
    {
     "name": "stdout",
     "output_type": "stream",
     "text": [
      "+------+------------+\n",
      "|  name|age_category|\n",
      "+------+------------+\n",
      "|김찬용|       young|\n",
      "|안찬용|       adult|\n",
      "|박찬용|       young|\n",
      "|이찬용|       young|\n",
      "|최찬용|       young|\n",
      "|윤찬용|       adult|\n",
      "|백찬용|       young|\n",
      "+------+------------+\n",
      "\n"
     ]
    }
   ],
   "source": [
    "result.show()"
   ]
  },
  {
   "cell_type": "code",
   "execution_count": null,
   "id": "40bf0899-253d-489c-bdce-86f0944f0ca0",
   "metadata": {},
   "outputs": [],
   "source": []
  },
  {
   "cell_type": "code",
   "execution_count": null,
   "id": "133b391d-1d13-4559-9827-23b0009d82c1",
   "metadata": {},
   "outputs": [],
   "source": []
  }
 ],
 "metadata": {
  "kernelspec": {
   "display_name": "Python 3 (ipykernel)",
   "language": "python",
   "name": "python3"
  },
  "language_info": {
   "codemirror_mode": {
    "name": "ipython",
    "version": 3
   },
   "file_extension": ".py",
   "mimetype": "text/x-python",
   "name": "python",
   "nbconvert_exporter": "python",
   "pygments_lexer": "ipython3",
   "version": "3.9.13"
  }
 },
 "nbformat": 4,
 "nbformat_minor": 5
}
