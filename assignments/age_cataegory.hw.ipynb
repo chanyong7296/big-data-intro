{
 "cells": [
  {
   "cell_type": "code",
   "execution_count": 1,
   "id": "f8c977a7-a01c-4ae0-b9cc-27e4d76f427d",
   "metadata": {},
   "outputs": [],
   "source": [
    "from pyspark.sql import SparkSession"
   ]
  },
  {
   "cell_type": "code",
   "execution_count": 2,
   "id": "cb4672e4-992e-42b0-b11d-95669ec21940",
   "metadata": {},
   "outputs": [],
   "source": [
    "spark = SparkSession.builder.master('local').appName('age_category(age)').getOrCreate()"
   ]
  },
  {
   "cell_type": "code",
   "execution_count": 34,
   "id": "ff4910b4-de93-47ba-b5c3-3fa3aad740b9",
   "metadata": {},
   "outputs": [],
   "source": [
    "def age_category(age):\n",
    "    if age < 35:\n",
    "        return 'young'\n",
    "    elif age >= 35 and age <= 59:\n",
    "        return 'adult'\n",
    "    else:\n",
    "        return 'senior'\n",
    "    "
   ]
  },
  {
   "cell_type": "code",
   "execution_count": 39,
   "id": "8e6d0141-96ab-4bad-8614-2845336a06ec",
   "metadata": {},
   "outputs": [],
   "source": [
    "data = [        ('김찬용',24),\n",
    "                ('안찬용',43),\n",
    "                ('박찬용',20),\n",
    "                ('이찬용',14),\n",
    "                ('최찬용',17),\n",
    "                ('윤찬용',52),\n",
    "                ('백찬용',33)]"
   ]
  },
  {
   "cell_type": "code",
   "execution_count": 40,
   "id": "4e89d14c-eca5-42a1-a333-86db97c14dd2",
   "metadata": {},
   "outputs": [],
   "source": [
    "schema = ['name', 'age_category(age)' ]"
   ]
  },
  {
   "cell_type": "code",
   "execution_count": 41,
   "id": "321eefc9-801e-4ad0-97aa-7a66497ff22f",
   "metadata": {},
   "outputs": [],
   "source": [
    "df = spark.createDataFrame(data= data, schema=schema)"
   ]
  },
  {
   "cell_type": "code",
   "execution_count": 42,
   "id": "83fd741e-2799-47cf-aca2-7b2152f20c29",
   "metadata": {},
   "outputs": [
    {
     "name": "stdout",
     "output_type": "stream",
     "text": [
      "+------+-----------------+\n",
      "|  name|age_category(age)|\n",
      "+------+-----------------+\n",
      "|김찬용|               24|\n",
      "|안찬용|               43|\n",
      "|박찬용|               20|\n",
      "|이찬용|               14|\n",
      "|최찬용|               17|\n",
      "|윤찬용|               52|\n",
      "|백찬용|               33|\n",
      "+------+-----------------+\n",
      "\n"
     ]
    }
   ],
   "source": [
    "df.show()"
   ]
  },
  {
   "cell_type": "code",
   "execution_count": null,
   "id": "aaf55d80-ebbf-443d-8ddb-68c7d068e5a5",
   "metadata": {},
   "outputs": [],
   "source": []
  }
 ],
 "metadata": {
  "kernelspec": {
   "display_name": "Python 3 (ipykernel)",
   "language": "python",
   "name": "python3"
  },
  "language_info": {
   "codemirror_mode": {
    "name": "ipython",
    "version": 3
   },
   "file_extension": ".py",
   "mimetype": "text/x-python",
   "name": "python",
   "nbconvert_exporter": "python",
   "pygments_lexer": "ipython3",
   "version": "3.9.13"
  }
 },
 "nbformat": 4,
 "nbformat_minor": 5
}
